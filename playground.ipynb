{
 "cells": [
  {
   "cell_type": "code",
   "execution_count": 1,
   "metadata": {},
   "outputs": [],
   "source": [
    "%load_ext autoreload\n",
    "%autoreload 2"
   ]
  },
  {
   "cell_type": "code",
   "execution_count": 2,
   "metadata": {},
   "outputs": [],
   "source": [
    "\n",
    "from sklearn.model_selection import train_test_split\n",
    "\n",
    "from tqdm import tqdm\n",
    "from sklearn.model_selection import StratifiedKFold\n",
    "\n",
    "import numpy as np\n",
    "from moabb.paradigms import MotorImagery\n",
    "from moabb import datasets\n",
    "from sklearn import preprocessing\n",
    "from braindecode.datasets import MOABBDataset\n",
    "\n",
    "\n",
    "# import adabound\n",
    "\n",
    "import torch\n",
    "import torch.nn as nn \n",
    "from torch import tensor\n",
    "\n",
    "import wandb\n",
    "\n",
    "from utils import utils\n",
    "from utils import data_utils\n",
    "from utils.model_utils import get_config, get_optim\n",
    "from models.model import *\n",
    "from models.loss import csp_loss\n",
    "\n",
    "import optuna\n",
    "from optuna.integration.wandb import WeightsAndBiasesCallback\n"
   ]
  },
  {
   "cell_type": "code",
   "execution_count": 3,
   "metadata": {},
   "outputs": [],
   "source": [
    "utils.set_seed(0)\n",
    "device = utils.set_device()"
   ]
  },
  {
   "cell_type": "code",
   "execution_count": 4,
   "metadata": {},
   "outputs": [
    {
     "data": {
      "text/plain": [
       "True"
      ]
     },
     "execution_count": 4,
     "metadata": {},
     "output_type": "execute_result"
    }
   ],
   "source": [
    "torch.cuda.is_available()"
   ]
  },
  {
   "cell_type": "code",
   "execution_count": 5,
   "metadata": {},
   "outputs": [
    {
     "name": "stderr",
     "output_type": "stream",
     "text": [
      "Choosing from all possible events\n"
     ]
    },
    {
     "name": "stdout",
     "output_type": "stream",
     "text": [
      "200 events found\n",
      "Event IDs: [1 2]\n",
      "200 events found\n",
      "Event IDs: [1 2]\n"
     ]
    }
   ],
   "source": [
    "# data config\n",
    "dataset_name=\"BNCI2015001\"\n",
    "subject_id=1\n",
    "\n",
    "paradigm = MotorImagery(n_classes=2)\n",
    "dataset = getattr(datasets, dataset_name)\n",
    "subjects = [subject_id]\n",
    "\n",
    "# load data\n",
    "X, y, metadata = paradigm.get_data(dataset=dataset(), subjects=subjects)\n",
    "X = X * 1000\n",
    "le = preprocessing.LabelEncoder()\n",
    "le.fit(y)\n",
    "y = le.transform(y)\n",
    "\n",
    "# load metadata\n",
    "ds = MOABBDataset(dataset_name=dataset_name, subject_ids=subject_id)\n",
    "ch_names = ds.datasets[0].raw.info[\"ch_names\"]\n",
    "samplerate = ds.datasets[0].raw.info[\"sfreq\"]\n",
    "\n"
   ]
  },
  {
   "cell_type": "code",
   "execution_count": 6,
   "metadata": {},
   "outputs": [],
   "source": [
    "num_epochs = 100"
   ]
  },
  {
   "cell_type": "code",
   "execution_count": 9,
   "metadata": {},
   "outputs": [],
   "source": [
    "trial_num = -1 # trial number of optuna\n",
    "num_channels = X.shape[1] # for deepcsp \n",
    "def objective(trial):\n",
    "    global trial_num\n",
    "    trial_num += 1\n",
    "    #hyperparameters\n",
    "    n_components = 2\n",
    "    component_order = 'alternate'\n",
    "    \n",
    "    # get parameters specific to the current trial\n",
    "    \n",
    "    config = get_config(trial=trial)\n",
    "        \n",
    "    # definde model and classifier\n",
    "    clf = Classifier(n_components, config['filters']).to(device)\n",
    "    model = Tception(samplerate, config['filters']).to(device)\n",
    "    CSPloss = csp_loss(n_components = n_components,\n",
    "                       n_channels = num_channels,\n",
    "                       device=device,\n",
    "                       component_order = component_order)\n",
    "\n",
    "    # get optimizers specific to the current trial\n",
    "    \n",
    "    optimizer_model, optimizer_clf = get_optim(config, model, clf)\n",
    "    criterion = nn.BCELoss()    \n",
    "\n",
    "    params = {'n_components': n_components,\n",
    "          'filters': config['filters'],\n",
    "          'component_order': component_order,\n",
    "          'optim_type_model': config['optimizer_name_model'],\n",
    "          'weight_decay_model': config['weight_decay_model'],\n",
    "          'lr_model': config['lr_model'],\n",
    "          'optim_type_clf': config['optimizer_name_clf'],\n",
    "          'weight_decay_clf': config['weight_decay_clf'],\n",
    "          'lr_clf': config['lr_clf'],\n",
    "          'trial_id': trial_num}\n",
    "#     wandb.init(name='trial'+str(trial_num),\n",
    "               \n",
    "#                project=dataset_name+f\"_sub_{subject_id}\")   \n",
    "\n",
    "    val_losses, accs = [], []   \n",
    "    splitter = getattr(data_utils, \"partition_\"+dataset_name)\n",
    "    X_, X_test_, y_, y_test_, folds = splitter(X, y, metadata)\n",
    "    fold_counter = 0\n",
    "    for run_ind, (train_index, val_ind) in enumerate(folds):\n",
    "        fold_counter += 1\n",
    "        \n",
    "        # Simulate launching multiple different jobs that log to the same experiment\n",
    "\n",
    "\n",
    "        # Set group and job_type to see auto-grouping in the UI\n",
    "        wandb.init(name='trial_'+str(trial_num+1)+\"_fold_\" + str(fold_counter),\n",
    "            project=dataset_name+f\"_sub_{subject_id}\",\n",
    "            group=\"trial_\" + str(trial_num+1), \n",
    "            job_type=\"fold_\" + str(fold_counter))\n",
    "        wandb.config.update(params)\n",
    "\n",
    "        X_train, X_valid = X_[train_index], X_[val_ind]\n",
    "        y_train, y_valid = y_[train_index], y_[val_ind]\n",
    "\n",
    "        X_train = torch.as_tensor(X_train).float().unsqueeze(1).to(device)\n",
    "        y_train = torch.as_tensor(y_train).float().to(device)\n",
    "        X_val = torch.as_tensor(X_valid).float().unsqueeze(1).to(device)\n",
    "        y_val = torch.as_tensor(y_valid).float().to(device)\n",
    "        X_test = torch.as_tensor(X_test_).float().unsqueeze(1).to(device)\n",
    "        y_test = torch.as_tensor(y_test_).float().to(device)\n",
    "        \n",
    "        clf.reset_parameters()\n",
    "        model.reset_parameters()\n",
    "\n",
    "        for epoch in tqdm(range(num_epochs)):\n",
    "\n",
    "            \n",
    "            model.train()\n",
    "            clf.train()\n",
    "\n",
    "            optimizer_model.zero_grad()\n",
    "\n",
    "            H = model(X_train)\n",
    "            cpsloss_train , transformed = CSPloss(H, y_train)\n",
    "\n",
    "            cpsloss_train.backward(retain_graph=True)\n",
    "            optimizer_clf.zero_grad()\n",
    "\n",
    "            outputs = clf(transformed.clone().detach())\n",
    "            loss_train = criterion(outputs, y_train)\n",
    "\n",
    "\n",
    "            loss_train.backward()\n",
    "            optimizer_model.step()\n",
    "            optimizer_clf.step()\n",
    "\n",
    "            accuracy_train = ((outputs > 0.5) == y_train).float().mean()\n",
    "            model.eval()\n",
    "            clf.eval()\n",
    "\n",
    "            with torch.no_grad():\n",
    "                H = model(X_val)\n",
    "\n",
    "                cpsloss_val, transformed = CSPloss.filter_bank_val(H, y_val)\n",
    "\n",
    "                outputs = clf(transformed.clone().detach())\n",
    "                loss_val = criterion(outputs, y_val)\n",
    "                accuracy_val = ((outputs > 0.5) == y_val).float().mean()\n",
    "\n",
    "                H = model(X_test)\n",
    "\n",
    "                cpsloss_test, transformed = CSPloss.filter_bank_val(H, y_test)\n",
    "\n",
    "                outputs = clf(transformed.clone().detach())\n",
    "                loss_test = criterion(outputs, y_test)\n",
    "                accuracy_test = ((outputs > 0.5) == y_test).float().mean()\n",
    "\n",
    "\n",
    "            val_losses.append(loss_val)\n",
    "            accs.append(accuracy_test)\n",
    "            wandb.log({\n",
    "                'train_accuracy': accuracy_train,\n",
    "                'train_loss': loss_train,\n",
    "                'train_csploss': cpsloss_train,\n",
    "                'valid_accuracy': accuracy_val,\n",
    "                'valid_loss': loss_val,\n",
    "                'valid_csploss': cpsloss_val,\n",
    "                'test_accuracy': accuracy_test,\n",
    "                'test_loss': loss_test,\n",
    "                'test_csploss': cpsloss_test,\n",
    "                'run': run_ind,\n",
    "                'epoch': epoch\n",
    "            })\n",
    "        \n",
    "\n",
    "    loss, acc = tensor(val_losses), tensor(accs)\n",
    "    loss, acc = loss.view(fold_counter, num_epochs), acc.view(fold_counter, num_epochs)\n",
    "    loss, argmin = loss.min(dim=1)\n",
    "    acc = acc[torch.arange(fold_counter, dtype=torch.long), argmin]\n",
    "    loss_mean = loss.mean().item()\n",
    "    acc_mean = acc.mean().item()\n",
    "    acc_std = acc.std().item()\n",
    "    wandb.log({\n",
    "        'cv_acc_mean': acc_mean,\n",
    "        'cv_acc_std': acc_std,\n",
    "        'cv_loss_mean': loss_mean,\n",
    "        'trial': trial_num\n",
    "        })\n",
    "\n",
    "    # Handle pruning based on the intermediate value.\n",
    "    if trial.should_prune():\n",
    "        raise optuna.exceptions.TrialPruned()\n",
    "\n",
    "\n",
    "    return loss_mean"
   ]
  },
  {
   "cell_type": "code",
   "execution_count": null,
   "metadata": {},
   "outputs": [
    {
     "name": "stderr",
     "output_type": "stream",
     "text": [
      "\u001b[34m\u001b[1mwandb\u001b[0m: \u001b[33mWARNING\u001b[0m Calling wandb.login() after wandb.init() has no effect.\n",
      "\u001b[32m[I 2022-01-06 01:08:58,344]\u001b[0m A new study created in memory with name: my_study\u001b[0m\n"
     ]
    },
    {
     "name": "stdout",
     "output_type": "stream",
     "text": [
      "adam\n"
     ]
    },
    {
     "data": {
      "text/html": [
       "Finishing last run (ID:2jcrdh1p) before initializing another..."
      ],
      "text/plain": [
       "<IPython.core.display.HTML object>"
      ]
     },
     "metadata": {},
     "output_type": "display_data"
    },
    {
     "data": {
      "text/html": [
       "<br/>Waiting for W&B process to finish, PID 2203716... <strong style=\"color:green\">(success).</strong>"
      ],
      "text/plain": [
       "<IPython.core.display.HTML object>"
      ]
     },
     "metadata": {},
     "output_type": "display_data"
    },
    {
     "data": {
      "text/html": [
       "<style>\n",
       "    table.wandb td:nth-child(1) { padding: 0 10px; text-align: right }\n",
       "    .wandb-row { display: flex; flex-direction: row; flex-wrap: wrap; width: 100% }\n",
       "    .wandb-col { display: flex; flex-direction: column; flex-basis: 100%; flex: 1; padding: 10px; }\n",
       "    </style>\n",
       "<div class=\"wandb-row\"><div class=\"wandb-col\">\n",
       "<h3>Run history:</h3><br/><table class=\"wandb\"><tr><td>epoch</td><td>▁▁▁▁▂▂▂▂▂▃▃▃▃▃▃▄▄▄▄▄▅▅▅▅▅▅▆▆▆▆▆▇▇▇▇▇▇███</td></tr><tr><td>run</td><td>▁▁▁▁▁▁▁▁▁▁▁▁▁▁▁▁▁▁▁▁▁▁▁▁▁▁▁▁▁▁▁▁▁▁▁▁▁▁▁▁</td></tr><tr><td>test_accuracy</td><td>▁█▁▇███▇█▇██████████████████████████████</td></tr><tr><td>test_csploss</td><td>█▅▃▃▃▃▃▃▃▃▃▃▃▃▂▂▂▂▂▂▂▁▁▁▁▁▁▁▁▁▁▁▁▁▁▁▁▁▁▁</td></tr><tr><td>test_loss</td><td>█▇▇▇▆▆▆▆▅▅▄▄▄▃▃▃▂▂▂▂▂▂▂▂▁▁▁▁▁▁▁▁▁▁▁▁▁▁▁▁</td></tr><tr><td>train_accuracy</td><td>▁▁▃▂▃▅▅▅▅▅▅▆▇▇▆▇▇▇█▇▇█▇█▇▇██▇██▇▇██████▇</td></tr><tr><td>train_csploss</td><td>█▅▂▂▂▁▁▁▁▁▁▁▁▁▁▁▁▁▁▁▁▁▁▁▁▁▁▁▁▁▁▁▁▁▁▁▁▁▁▁</td></tr><tr><td>train_loss</td><td>█▆▅▅▅▄▄▄▄▄▄▃▃▃▃▂▂▂▂▂▂▂▂▂▂▂▁▁▁▁▁▁▂▁▁▁▁▁▁▁</td></tr><tr><td>valid_accuracy</td><td>▁▇▁█████████████████████████████████████</td></tr><tr><td>valid_csploss</td><td>█▅▃▃▃▃▃▃▃▂▂▂▂▂▂▂▂▂▂▂▁▁▁▁▁▁▁▁▁▁▁▁▁▁▁▁▁▁▁▁</td></tr><tr><td>valid_loss</td><td>█▇▇▇▆▆▆▆▅▅▄▄▄▃▃▃▂▂▂▂▂▂▂▂▂▁▁▁▁▁▁▁▁▁▁▁▁▁▁▁</td></tr></table><br/></div><div class=\"wandb-col\">\n",
       "<h3>Run summary:</h3><br/><table class=\"wandb\"><tr><td>epoch</td><td>72</td></tr><tr><td>run</td><td>1</td></tr><tr><td>test_accuracy</td><td>0.975</td></tr><tr><td>test_csploss</td><td>24.44633</td></tr><tr><td>test_loss</td><td>0.0706</td></tr><tr><td>train_accuracy</td><td>0.925</td></tr><tr><td>train_csploss</td><td>42.39531</td></tr><tr><td>train_loss</td><td>0.18406</td></tr><tr><td>valid_accuracy</td><td>1.0</td></tr><tr><td>valid_csploss</td><td>24.21525</td></tr><tr><td>valid_loss</td><td>0.03035</td></tr></table>\n",
       "</div></div>\n",
       "Synced 6 W&B file(s), 0 media file(s), 0 artifact file(s) and 0 other file(s)\n",
       "<br/>Synced <strong style=\"color:#cdcd00\">skilled-elevator-10</strong>: <a href=\"https://wandb.ai/mirfarid/BNCI2015001_sub_1/runs/2jcrdh1p\" target=\"_blank\">https://wandb.ai/mirfarid/BNCI2015001_sub_1/runs/2jcrdh1p</a><br/>\n",
       "Find logs at: <code>./wandb/run-20220106_010506-2jcrdh1p/logs</code><br/>\n"
      ],
      "text/plain": [
       "<IPython.core.display.HTML object>"
      ]
     },
     "metadata": {},
     "output_type": "display_data"
    },
    {
     "data": {
      "text/html": [
       "Successfully finished last run (ID:2jcrdh1p). Initializing new run:<br/>"
      ],
      "text/plain": [
       "<IPython.core.display.HTML object>"
      ]
     },
     "metadata": {},
     "output_type": "display_data"
    },
    {
     "data": {
      "text/html": [
       "\n",
       "                    Syncing run <strong><a href=\"https://wandb.ai/mirfarid/BNCI2015001_sub_1/runs/g8twobgy\" target=\"_blank\">glowing-forest-11</a></strong> to <a href=\"https://wandb.ai/mirfarid/BNCI2015001_sub_1\" target=\"_blank\">Weights & Biases</a> (<a href=\"https://docs.wandb.com/integrations/jupyter.html\" target=\"_blank\">docs</a>).<br/>\n",
       "\n",
       "                "
      ],
      "text/plain": [
       "<IPython.core.display.HTML object>"
      ]
     },
     "metadata": {},
     "output_type": "display_data"
    },
    {
     "name": "stderr",
     "output_type": "stream",
     "text": [
      "100%|██████████| 100/100 [02:12<00:00,  1.32s/it]\n"
     ]
    },
    {
     "data": {
      "text/html": [
       "Finishing last run (ID:g8twobgy) before initializing another..."
      ],
      "text/plain": [
       "<IPython.core.display.HTML object>"
      ]
     },
     "metadata": {},
     "output_type": "display_data"
    },
    {
     "data": {
      "text/html": [
       "<br/>Waiting for W&B process to finish, PID 2205595... <strong style=\"color:green\">(success).</strong>"
      ],
      "text/plain": [
       "<IPython.core.display.HTML object>"
      ]
     },
     "metadata": {},
     "output_type": "display_data"
    },
    {
     "data": {
      "text/html": [
       "<style>\n",
       "    table.wandb td:nth-child(1) { padding: 0 10px; text-align: right }\n",
       "    .wandb-row { display: flex; flex-direction: row; flex-wrap: wrap; width: 100% }\n",
       "    .wandb-col { display: flex; flex-direction: column; flex-basis: 100%; flex: 1; padding: 10px; }\n",
       "    </style>\n",
       "<div class=\"wandb-row\"><div class=\"wandb-col\">\n",
       "<h3>Run history:</h3><br/><table class=\"wandb\"><tr><td>epoch</td><td>▁▁▁▁▂▂▂▂▂▃▃▃▃▃▃▄▄▄▄▄▅▅▅▅▅▅▆▆▆▆▆▇▇▇▇▇▇███</td></tr><tr><td>run</td><td>▁▁▁▁▁▁▁▁▁▁▁▁▁▁▁▁▁▁▁▁▁▁▁▁▁▁▁▁▁▁▁▁▁▁▁▁▁▁▁▁</td></tr><tr><td>test_accuracy</td><td>████▁▁▁▁▁▁▁▁▁▁▁▁▁▁▁▁▁▁▁▁▁▁▁▁▁▁▁▁▁▁▁▁▁▁▁▁</td></tr><tr><td>test_csploss</td><td>▄▆▆▇███▇▆▆▅▄▄▃▃▃▃▃▃▃▂▂▂▂▂▂▁▂▁▂▁▁▁▁▁▁▂▁▁▁</td></tr><tr><td>test_loss</td><td>▁▃▄▅▆▆▇▇▇███████████████████████████▇▇▇▇</td></tr><tr><td>train_accuracy</td><td>▁▁▁▁▁▁▁▁▁▁▁▁▁▁▁▁▁▁▁▁▁▁▁▁▁▁▁▁▁▁▁▁▁▁▁▁▁▁▁▁</td></tr><tr><td>train_csploss</td><td>█▂▁▁▁▁▁▁▁▁▁▁▁▁▁▁▁▁▁▁▁▁▁▁▁▁▁▁▁▁▁▁▁▁▁▁▁▁▁▁</td></tr><tr><td>train_loss</td><td>▅▆▆▄▅▇▆▂▅██▇▅▁▃▇▇▄▅▅▂▅▇▆▁▄▆▅▇▅▅▅▂▂▅▆▅▄▁▇</td></tr><tr><td>valid_accuracy</td><td>▁▁▁▁▁▁▁▁▁▁▁█████████████████████████████</td></tr><tr><td>valid_csploss</td><td>▃▆▇███▇▆▆▅▄▄▃▃▃▂▂▂▂▂▂▂▂▁▁▁▁▁▁▁▁▁▁▁▁▁▁▁▁▁</td></tr><tr><td>valid_loss</td><td>▁▂▄▅▅▆▇▇▇███████████████████████████▇▇▇▇</td></tr></table><br/></div><div class=\"wandb-col\">\n",
       "<h3>Run summary:</h3><br/><table class=\"wandb\"><tr><td>epoch</td><td>99</td></tr><tr><td>run</td><td>0</td></tr><tr><td>test_accuracy</td><td>0.5</td></tr><tr><td>test_csploss</td><td>12.05669</td></tr><tr><td>test_loss</td><td>1.00247</td></tr><tr><td>train_accuracy</td><td>0.5</td></tr><tr><td>train_csploss</td><td>21.20742</td></tr><tr><td>train_loss</td><td>1.11782</td></tr><tr><td>valid_accuracy</td><td>0.5</td></tr><tr><td>valid_csploss</td><td>11.99757</td></tr><tr><td>valid_loss</td><td>0.99088</td></tr></table>\n",
       "</div></div>\n",
       "Synced 6 W&B file(s), 0 media file(s), 0 artifact file(s) and 0 other file(s)\n",
       "<br/>Synced <strong style=\"color:#cdcd00\">glowing-forest-11</strong>: <a href=\"https://wandb.ai/mirfarid/BNCI2015001_sub_1/runs/g8twobgy\" target=\"_blank\">https://wandb.ai/mirfarid/BNCI2015001_sub_1/runs/g8twobgy</a><br/>\n",
       "Find logs at: <code>./wandb/run-20220106_010858-g8twobgy/logs</code><br/>\n"
      ],
      "text/plain": [
       "<IPython.core.display.HTML object>"
      ]
     },
     "metadata": {},
     "output_type": "display_data"
    },
    {
     "data": {
      "text/html": [
       "Successfully finished last run (ID:g8twobgy). Initializing new run:<br/>"
      ],
      "text/plain": [
       "<IPython.core.display.HTML object>"
      ]
     },
     "metadata": {},
     "output_type": "display_data"
    },
    {
     "data": {
      "text/html": [
       "\n",
       "                    Syncing run <strong><a href=\"https://wandb.ai/mirfarid/BNCI2015001_sub_1/runs/2fodvyg8\" target=\"_blank\">silver-wind-12</a></strong> to <a href=\"https://wandb.ai/mirfarid/BNCI2015001_sub_1\" target=\"_blank\">Weights & Biases</a> (<a href=\"https://docs.wandb.com/integrations/jupyter.html\" target=\"_blank\">docs</a>).<br/>\n",
       "\n",
       "                "
      ],
      "text/plain": [
       "<IPython.core.display.HTML object>"
      ]
     },
     "metadata": {},
     "output_type": "display_data"
    },
    {
     "name": "stderr",
     "output_type": "stream",
     "text": [
      "100%|██████████| 100/100 [02:07<00:00,  1.27s/it]\n"
     ]
    },
    {
     "data": {
      "text/html": [
       "Finishing last run (ID:2fodvyg8) before initializing another..."
      ],
      "text/plain": [
       "<IPython.core.display.HTML object>"
      ]
     },
     "metadata": {},
     "output_type": "display_data"
    },
    {
     "data": {
      "text/html": [
       "<br/>Waiting for W&B process to finish, PID 2206800... <strong style=\"color:green\">(success).</strong>"
      ],
      "text/plain": [
       "<IPython.core.display.HTML object>"
      ]
     },
     "metadata": {},
     "output_type": "display_data"
    },
    {
     "data": {
      "text/html": [
       "<style>\n",
       "    table.wandb td:nth-child(1) { padding: 0 10px; text-align: right }\n",
       "    .wandb-row { display: flex; flex-direction: row; flex-wrap: wrap; width: 100% }\n",
       "    .wandb-col { display: flex; flex-direction: column; flex-basis: 100%; flex: 1; padding: 10px; }\n",
       "    </style>\n",
       "<div class=\"wandb-row\"><div class=\"wandb-col\">\n",
       "<h3>Run history:</h3><br/><table class=\"wandb\"><tr><td>epoch</td><td>▁▁▁▁▂▂▂▂▂▃▃▃▃▃▃▄▄▄▄▄▅▅▅▅▅▅▆▆▆▆▆▇▇▇▇▇▇███</td></tr><tr><td>run</td><td>▁▁▁▁▁▁▁▁▁▁▁▁▁▁▁▁▁▁▁▁▁▁▁▁▁▁▁▁▁▁▁▁▁▁▁▁▁▁▁▁</td></tr><tr><td>test_accuracy</td><td>▁▁▁▁▁▁▁▁▁▁▁▁▁▁▁▁▁▁▁▁▁▁▁▁▁▁▁▁▁▁▁▁▁▁▁▁▁▁▁▁</td></tr><tr><td>test_csploss</td><td>▇▅▆▇████▇▇▅▅▅▄▄▃▃▂▃▂▃▂▂▂▂▂▂▁▂▁▂▁▂▂▁▁▁▁▁▂</td></tr><tr><td>test_loss</td><td>▁▄▆▇███████████▇▇▇▇▇▇▇▇▇▆▆▆▆▆▆▆▆▅▅▅▅▅▅▅▅</td></tr><tr><td>train_accuracy</td><td>▆▅▇▇▅▅▆▄▅▄▅▅▇▄▃▅▅▅▅▄▂▃▃▃▃▁▄▇▅▄█▁▄▆▆▇▇▄▅▄</td></tr><tr><td>train_csploss</td><td>█▂▁▁▁▁▁▁▁▁▁▁▁▁▁▁▁▁▁▁▁▁▁▁▁▁▁▁▁▁▁▁▁▁▁▁▁▁▁▁</td></tr><tr><td>train_loss</td><td>▅▇▇▅▄█▅▆▆▆▄▆▅▄█▄▅▃▅▆▃▅▄▄▅▃▂▁▄▆▄▄▂▂▂▂▂▄▃▃</td></tr><tr><td>valid_accuracy</td><td>▁▁▁▁▁▁▁▁▁▁▁▁▁▁▁▁▁▁▁▁▁▁▁▁▁▁▁▁▁▁▁▁▁▁▁▁▁▁▁▁</td></tr><tr><td>valid_csploss</td><td>▆▄▆▇████▇▆▆▆▅▅▄▄▃▃▃▃▃▂▂▂▂▂▂▂▂▂▂▂▁▂▁▂▁▂▁▁</td></tr><tr><td>valid_loss</td><td>▁▄▆▇███████████▇▇▇▇▇▇▇▇▇▆▆▆▆▆▆▆▆▅▅▅▅▅▅▅▅</td></tr></table><br/></div><div class=\"wandb-col\">\n",
       "<h3>Run summary:</h3><br/><table class=\"wandb\"><tr><td>epoch</td><td>99</td></tr><tr><td>run</td><td>1</td></tr><tr><td>test_accuracy</td><td>0.5</td></tr><tr><td>test_csploss</td><td>12.19951</td></tr><tr><td>test_loss</td><td>1.41949</td></tr><tr><td>train_accuracy</td><td>0.44375</td></tr><tr><td>train_csploss</td><td>21.18512</td></tr><tr><td>train_loss</td><td>1.65251</td></tr><tr><td>valid_accuracy</td><td>0.5</td></tr><tr><td>valid_csploss</td><td>12.0792</td></tr><tr><td>valid_loss</td><td>1.41168</td></tr></table>\n",
       "</div></div>\n",
       "Synced 6 W&B file(s), 0 media file(s), 0 artifact file(s) and 0 other file(s)\n",
       "<br/>Synced <strong style=\"color:#cdcd00\">silver-wind-12</strong>: <a href=\"https://wandb.ai/mirfarid/BNCI2015001_sub_1/runs/2fodvyg8\" target=\"_blank\">https://wandb.ai/mirfarid/BNCI2015001_sub_1/runs/2fodvyg8</a><br/>\n",
       "Find logs at: <code>./wandb/run-20220106_011122-2fodvyg8/logs</code><br/>\n"
      ],
      "text/plain": [
       "<IPython.core.display.HTML object>"
      ]
     },
     "metadata": {},
     "output_type": "display_data"
    },
    {
     "data": {
      "text/html": [
       "Successfully finished last run (ID:2fodvyg8). Initializing new run:<br/>"
      ],
      "text/plain": [
       "<IPython.core.display.HTML object>"
      ]
     },
     "metadata": {},
     "output_type": "display_data"
    },
    {
     "data": {
      "text/html": [
       "\n",
       "                    Syncing run <strong><a href=\"https://wandb.ai/mirfarid/BNCI2015001_sub_1/runs/kt18soh2\" target=\"_blank\">dry-sea-13</a></strong> to <a href=\"https://wandb.ai/mirfarid/BNCI2015001_sub_1\" target=\"_blank\">Weights & Biases</a> (<a href=\"https://docs.wandb.com/integrations/jupyter.html\" target=\"_blank\">docs</a>).<br/>\n",
       "\n",
       "                "
      ],
      "text/plain": [
       "<IPython.core.display.HTML object>"
      ]
     },
     "metadata": {},
     "output_type": "display_data"
    },
    {
     "name": "stderr",
     "output_type": "stream",
     "text": [
      "  2%|▏         | 2/100 [00:02<02:09,  1.32s/it]"
     ]
    }
   ],
   "source": [
    "# wandb_kwargs = {\"project\": \"bci-second-test\"}\n",
    "# wandbc = WeightsAndBiasesCallback(metric_name=\"5foldValidAccuracy\", wandb_kwargs=wandb_kwargs)\n",
    "wandb.login()\n",
    "\n",
    "study = optuna.create_study(direction=\"minimize\", study_name=\"my_study\")\n",
    "study.optimize(objective, n_trials=100)"
   ]
  },
  {
   "cell_type": "code",
   "execution_count": null,
   "metadata": {},
   "outputs": [],
   "source": []
  }
 ],
 "metadata": {
  "interpreter": {
   "hash": "9a7fd58823997d7ede94275506ae35e7875574a11f960ee9595a6032ba507ae6"
  },
  "kernelspec": {
   "display_name": "Python 3",
   "language": "python",
   "name": "python3"
  },
  "language_info": {
   "codemirror_mode": {
    "name": "ipython",
    "version": 3
   },
   "file_extension": ".py",
   "mimetype": "text/x-python",
   "name": "python",
   "nbconvert_exporter": "python",
   "pygments_lexer": "ipython3",
   "version": "3.9.7"
  }
 },
 "nbformat": 4,
 "nbformat_minor": 2
}
