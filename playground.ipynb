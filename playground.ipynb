{
 "cells": [
  {
   "cell_type": "code",
   "execution_count": 2,
   "metadata": {},
   "outputs": [],
   "source": [
    "\n",
    "from sklearn.model_selection import train_test_split\n",
    "\n",
    "from tqdm import tqdm\n",
    "from sklearn.model_selection import StratifiedKFold\n",
    "\n",
    "import numpy as np\n",
    "from moabb.paradigms import MotorImagery\n",
    "from sklearn import preprocessing\n",
    "from braindecode.datasets import MOABBDataset\n",
    "\n",
    "\n",
    "# import adabound\n",
    "\n",
    "import torch\n",
    "import torch.nn as nn \n",
    "from torch import tensor\n",
    "\n"
   ]
  },
  {
   "cell_type": "code",
   "execution_count": 3,
   "metadata": {},
   "outputs": [],
   "source": [
    "from utils import utils\n",
    "from utils import data_utils"
   ]
  },
  {
   "cell_type": "code",
   "execution_count": 4,
   "metadata": {},
   "outputs": [],
   "source": [
    "utils.set_seed(0)\n",
    "device = utils.set_device()"
   ]
  },
  {
   "cell_type": "code",
   "execution_count": 5,
   "metadata": {},
   "outputs": [],
   "source": [
    "from moabb import datasets"
   ]
  },
  {
   "cell_type": "code",
   "execution_count": 6,
   "metadata": {},
   "outputs": [
    {
     "name": "stderr",
     "output_type": "stream",
     "text": [
      "Choosing from all possible events\n"
     ]
    },
    {
     "name": "stdout",
     "output_type": "stream",
     "text": [
      "200 events found\n",
      "Event IDs: [1 2]\n",
      "200 events found\n",
      "Event IDs: [1 2]\n"
     ]
    }
   ],
   "source": [
    "# data config\n",
    "dataset_name=\"BNCI2015001\"\n",
    "subject_id=1\n",
    "\n",
    "paradigm = MotorImagery(n_classes=2)\n",
    "dataset = getattr(datasets, \"BNCI2015001\")\n",
    "subjects = [subject_id]\n",
    "\n",
    "# load data\n",
    "X, y, metadata = paradigm.get_data(dataset=dataset(), subjects=subjects)\n",
    "X = X * 1000\n",
    "le = preprocessing.LabelEncoder()\n",
    "le.fit(y)\n",
    "y = le.transform(y)\n",
    "\n",
    "# load metadata\n",
    "ds = MOABBDataset(dataset_name=dataset_name, subject_ids=subject_id)\n",
    "ch_names = ds.datasets[0].raw.info[\"ch_names\"]\n",
    "samplerate = ds.datasets[0].raw.info[\"sfreq\"]\n",
    "\n"
   ]
  },
  {
   "cell_type": "code",
   "execution_count": 7,
   "metadata": {},
   "outputs": [],
   "source": [
    "splitter = getattr(data_utils, \"partition_\"+dataset_name)\n",
    "X_, X_test, y_, y_test = splitter(X, y, metadata)"
   ]
  },
  {
   "cell_type": "code",
   "execution_count": 8,
   "metadata": {},
   "outputs": [
    {
     "name": "stderr",
     "output_type": "stream",
     "text": [
      "\u001b[34m\u001b[1mwandb\u001b[0m: Currently logged in as: \u001b[33mmirfarid\u001b[0m (use `wandb login --relogin` to force relogin)\n"
     ]
    },
    {
     "data": {
      "text/plain": [
       "True"
      ]
     },
     "execution_count": 8,
     "metadata": {},
     "output_type": "execute_result"
    }
   ],
   "source": [
    "import wandb\n",
    "\n",
    "wandb.login()"
   ]
  },
  {
   "cell_type": "code",
   "execution_count": 9,
   "metadata": {},
   "outputs": [],
   "source": [
    "from models.model import *\n",
    "from models.loss import csp_loss"
   ]
  },
  {
   "cell_type": "code",
   "execution_count": 10,
   "metadata": {},
   "outputs": [],
   "source": [
    "import optuna\n",
    "from optuna.integration.wandb import WeightsAndBiasesCallback"
   ]
  },
  {
   "cell_type": "code",
   "execution_count": 11,
   "metadata": {},
   "outputs": [],
   "source": [
    "from utils.model_utils import get_config, get_optim"
   ]
  },
  {
   "cell_type": "code",
   "execution_count": 12,
   "metadata": {},
   "outputs": [],
   "source": [
    "trial_num = -1 # trial number of optuna\n",
    "\n",
    "def objective(trial):\n",
    "    global trial_num\n",
    "    trial_num += 1\n",
    "    #hyperparameters\n",
    "    n_components = 2\n",
    "    component_order = 'alternate'\n",
    "    \n",
    "    # get parameters specific to the current trial\n",
    "    \n",
    "    config = get_config(trial=trial)\n",
    "        \n",
    "    # definde model and classifier\n",
    "    clf = Classifier(n_components, config['filters']).to(device)\n",
    "    model = Tception(samplerate, config['filters']).to(device)\n",
    "    CSPloss = csp_loss(n_components = n_components,\n",
    "                       n_channels = 13,\n",
    "                       device=device,\n",
    "                       component_order = component_order)\n",
    "\n",
    "    # get optimizers specific to the current trial\n",
    "    \n",
    "    optimizer_model, optimizer_clf = get_optim(config, model, clf)\n",
    "    criterion = nn.BCELoss()    \n",
    "\n",
    "    params = {'n_components': n_components,\n",
    "          'filters': config['filters'],\n",
    "          'component_order': component_order,\n",
    "          'optim_type_model': config['optimizer_name_model'],\n",
    "          'weight_decay_model': config['weight_decay_model'],\n",
    "          'lr_model': config['lr_model'],\n",
    "          'optim_type_clf': config['optimizer_name_clf'],\n",
    "          'weight_decay_clf': config['weight_decay_clf'],\n",
    "          'lr_clf': config['lr_clf'],\n",
    "          'trial_id': trial_num}\n",
    "    wandb.init(name='trial'+str(trial_num),\n",
    "               config=params,\n",
    "               project=dataset_name)   \n",
    "\n",
    "    val_losses, accs = [], []   \n",
    "       \n",
    "    X_, X_test, y_, y_test = splitter(X, y, metadata)\n",
    "    skf = StratifiedKFold(n_splits=5)\n",
    "    for run_ind, (train_index, val_ind) in enumerate(skf.split(X_, y_)):\n",
    "\n",
    "        X_train, X_valid = X_[train_index], X_[val_ind]\n",
    "        y_train, y_valid = y_[train_index], y_[val_ind]\n",
    "\n",
    "        X_train = torch.as_tensor(X_train).float().unsqueeze(1).to(device)\n",
    "        y_train = torch.as_tensor(y_train).float().to(device)\n",
    "        X_val = torch.as_tensor(X_valid).float().unsqueeze(1).to(device)\n",
    "        y_val = torch.as_tensor(y_valid).float().to(device)\n",
    "        \n",
    "        clf.reset_parameters()\n",
    "        model.reset_parameters()\n",
    "\n",
    "        for epoch in tqdm(range(5)):\n",
    "\n",
    "            \n",
    "            model.train()\n",
    "            clf.train()\n",
    "\n",
    "            optimizer_model.zero_grad()\n",
    "\n",
    "            H = model(X_train)\n",
    "            cpsloss_train , transformed = CSPloss(H, y_train)\n",
    "\n",
    "            cpsloss_train.backward(retain_graph=True)\n",
    "            optimizer_clf.zero_grad()\n",
    "\n",
    "            outputs = clf(transformed.clone().detach())\n",
    "            loss_train = criterion(outputs, y_train)\n",
    "\n",
    "\n",
    "            loss_train.backward()\n",
    "            optimizer_model.step()\n",
    "            optimizer_clf.step()\n",
    "\n",
    "            accuracy_train = ((outputs > 0.5) == y_train).float().mean()\n",
    "            model.eval()\n",
    "            clf.eval()\n",
    "\n",
    "            with torch.no_grad():\n",
    "                H = model(X_val)\n",
    "\n",
    "                cpsloss_val, transformed = CSPloss.filter_bank_val(H, y_val)\n",
    "\n",
    "                outputs = clf(transformed.clone().detach())\n",
    "                loss_val = criterion(outputs, y_val)\n",
    "                accuracy_val = ((outputs > 0.5) == y_val).float().mean()\n",
    "\n",
    "\n",
    "            val_losses.append(loss_val)\n",
    "            accs.append(accuracy_val)\n",
    "            wandb.log({\n",
    "                'train_accuracy': accuracy_train,\n",
    "                'train_loss': loss_train,\n",
    "                'train_csploss': cpsloss_train,\n",
    "                'valid_accuracy': accuracy_val,\n",
    "                'valid_loss': loss_val,\n",
    "                'valid_csploss': cpsloss_val,\n",
    "                'run': run_ind,\n",
    "                'epoch': epoch\n",
    "            })\n",
    "        \n",
    "\n",
    "    loss, acc = tensor(val_losses), tensor(accs)\n",
    "    loss, acc = loss.view(5, 5), acc.view(5, 5)\n",
    "    loss, argmin = loss.min(dim=1)\n",
    "    acc = acc[torch.arange(5, dtype=torch.long), argmin]\n",
    "    loss_mean = loss.mean().item()\n",
    "    acc_mean = acc.mean().item()\n",
    "    acc_std = acc.std().item()\n",
    "    wandb.log({\n",
    "        'cv_acc_mean': acc_mean,\n",
    "        'cv_acc_std': acc_std,\n",
    "        'cv_loss_mean': loss_mean,\n",
    "        'trial': trial_num\n",
    "        })\n",
    "\n",
    "    # Handle pruning based on the intermediate value.\n",
    "    if trial.should_prune():\n",
    "        raise optuna.exceptions.TrialPruned()\n",
    "\n",
    "\n",
    "    return acc_mean"
   ]
  },
  {
   "cell_type": "code",
   "execution_count": 14,
   "metadata": {},
   "outputs": [
    {
     "name": "stderr",
     "output_type": "stream",
     "text": [
      "\u001b[32m[I 2022-01-04 03:20:13,212]\u001b[0m A new study created in memory with name: my_study\u001b[0m\n"
     ]
    },
    {
     "data": {
      "text/html": [
       "\n",
       "                    Syncing run <strong><a href=\"https://wandb.ai/mirfarid/BNCI2015001/runs/2adld4tc\" target=\"_blank\">trial0</a></strong> to <a href=\"https://wandb.ai/mirfarid/BNCI2015001\" target=\"_blank\">Weights & Biases</a> (<a href=\"https://docs.wandb.com/integrations/jupyter.html\" target=\"_blank\">docs</a>).<br/>\n",
       "\n",
       "                "
      ],
      "text/plain": [
       "<IPython.core.display.HTML object>"
      ]
     },
     "metadata": {},
     "output_type": "display_data"
    },
    {
     "name": "stderr",
     "output_type": "stream",
     "text": [
      "  0%|          | 0/5 [00:00<?, ?it/s]/home/puppy/projects/BCI/models/loss.py:89: UserWarning: torch.cholesky is deprecated in favor of torch.linalg.cholesky and will be removed in a future PyTorch release.\n",
      "L = torch.cholesky(A)\n",
      "should be replaced with\n",
      "L = torch.linalg.cholesky(A)\n",
      "and\n",
      "U = torch.cholesky(A, upper=True)\n",
      "should be replaced with\n",
      "U = torch.linalg.cholesky(A).transpose(-2, -1).conj().\n",
      "This transform will produce equivalent results for all valid (symmetric positive definite) inputs. (Triggered internally at  /opt/conda/conda-bld/pytorch_1639180487213/work/aten/src/ATen/native/BatchLinearAlgebra.cpp:1285.)\n",
      "  L = torch.cholesky(S_t, upper=False)\n",
      "/home/puppy/projects/BCI/models/loss.py:90: UserWarning: torch.solve is deprecated in favor of torch.linalg.solveand will be removed in a future PyTorch release.\n",
      "torch.linalg.solve has its arguments reversed and does not return the LU factorization.\n",
      "To get the LU factorization see torch.lu, which can be used with torch.lu_solve or torch.lu_unpack.\n",
      "X = torch.solve(B, A).solution\n",
      "should be replaced with\n",
      "X = torch.linalg.solve(A, B) (Triggered internally at  /opt/conda/conda-bld/pytorch_1639180487213/work/aten/src/ATen/native/BatchLinearAlgebra.cpp:766.)\n",
      "  P = torch.solve(S_w, L)[0] @ torch.pinverse(L).t()\n",
      "/home/puppy/projects/BCI/models/loss.py:92: UserWarning: torch.symeig is deprecated in favor of torch.linalg.eigh and will be removed in a future PyTorch release.\n",
      "The default behavior has changed from using the upper triangular portion of the matrix by default to using the lower triangular portion.\n",
      "L, _ = torch.symeig(A, upper=upper)\n",
      "should be replaced with\n",
      "L = torch.linalg.eigvalsh(A, UPLO='U' if upper else 'L')\n",
      "and\n",
      "L, V = torch.symeig(A, eigenvectors=True)\n",
      "should be replaced with\n",
      "L, V = torch.linalg.eigh(A, UPLO='U' if upper else 'L') (Triggered internally at  /opt/conda/conda-bld/pytorch_1639180487213/work/aten/src/ATen/native/BatchLinearAlgebra.cpp:2499.)\n",
      "  eigen_values, eigen_vectors = torch.symeig(P, eigenvectors=True)\n",
      "100%|██████████| 5/5 [01:10<00:00, 14.13s/it]\n",
      "100%|██████████| 5/5 [01:05<00:00, 13.08s/it]\n",
      "100%|██████████| 5/5 [01:05<00:00, 13.11s/it]\n",
      "100%|██████████| 5/5 [01:11<00:00, 14.37s/it]\n",
      "100%|██████████| 5/5 [01:09<00:00, 13.94s/it]\n",
      "\u001b[32m[I 2022-01-04 03:26:10,812]\u001b[0m Trial 0 finished with value: 0.7149999737739563 and parameters: {'filters': 15, 'optim_type_model': 'adam', 'weight_decay_model': 4.2470085559721334e-05, 'lr_model': 0.006742157016886016, 'optim_type_clf': 'momentum', 'weight_decay_clf': 1.966604527352493e-06, 'lr_clf': 0.008882181087009871}. Best is trial 0 with value: 0.7149999737739563.\u001b[0m\n"
     ]
    },
    {
     "data": {
      "text/html": [
       "Finishing last run (ID:2adld4tc) before initializing another..."
      ],
      "text/plain": [
       "<IPython.core.display.HTML object>"
      ]
     },
     "metadata": {},
     "output_type": "display_data"
    },
    {
     "data": {
      "text/html": [
       "<br/>Waiting for W&B process to finish, PID 97078... <strong style=\"color:green\">(success).</strong>"
      ],
      "text/plain": [
       "<IPython.core.display.HTML object>"
      ]
     },
     "metadata": {},
     "output_type": "display_data"
    },
    {
     "data": {
      "application/vnd.jupyter.widget-view+json": {
       "model_id": "4e0c378480d24ee6b06a393bd7b5d777",
       "version_major": 2,
       "version_minor": 0
      },
      "text/plain": [
       "VBox(children=(Label(value=' 0.00MB of 0.00MB uploaded (0.00MB deduped)\\r'), FloatProgress(value=0.0, max=1.0)…"
      ]
     },
     "metadata": {},
     "output_type": "display_data"
    }
   ],
   "source": [
    "# wandb_kwargs = {\"project\": \"bci-second-test\"}\n",
    "# wandbc = WeightsAndBiasesCallback(metric_name=\"5foldValidAccuracy\", wandb_kwargs=wandb_kwargs)\n",
    "\n",
    "study = optuna.create_study(direction=\"maximize\", study_name=\"my_study\")\n",
    "study.optimize(objective, n_trials=10)"
   ]
  },
  {
   "cell_type": "code",
   "execution_count": null,
   "metadata": {},
   "outputs": [],
   "source": []
  }
 ],
 "metadata": {
  "interpreter": {
   "hash": "9a7fd58823997d7ede94275506ae35e7875574a11f960ee9595a6032ba507ae6"
  },
  "kernelspec": {
   "display_name": "Python 3.9.7 64-bit ('bci': conda)",
   "language": "python",
   "name": "python3"
  },
  "language_info": {
   "codemirror_mode": {
    "name": "ipython",
    "version": 3
   },
   "file_extension": ".py",
   "mimetype": "text/x-python",
   "name": "python",
   "nbconvert_exporter": "python",
   "pygments_lexer": "ipython3",
   "version": "3.9.7"
  },
  "orig_nbformat": 4
 },
 "nbformat": 4,
 "nbformat_minor": 2
}
